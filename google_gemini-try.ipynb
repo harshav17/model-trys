{
 "cells": [
  {
   "cell_type": "markdown",
   "metadata": {},
   "source": [
    "### API Reference\n",
    "https://ai.google.dev/api/rest/v1/models/streamGenerateContent\n",
    "\n",
    "[Google AI Studio](https://aistudio.google.com/app/apikey)\n"
   ]
  },
  {
   "cell_type": "markdown",
   "metadata": {},
   "source": [
    "# TODO"
   ]
  }
 ],
 "metadata": {
  "language_info": {
   "name": "python"
  }
 },
 "nbformat": 4,
 "nbformat_minor": 2
}
