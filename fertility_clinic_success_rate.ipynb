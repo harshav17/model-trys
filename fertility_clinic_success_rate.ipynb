{
 "cells": [
  {
   "cell_type": "markdown",
   "metadata": {},
   "source": [
    "# fertility clinic success rate script\n",
    "SART has find a clinic functionality which allows user to see the success rates of a particular clinic. But it takes a lot of time."
   ]
  },
  {
   "cell_type": "code",
   "execution_count": 7,
   "metadata": {},
   "outputs": [
    {
     "name": "stdout",
     "output_type": "stream",
     "text": [
      "Requirement already satisfied: beautifulsoup4 in /Users/harsha/miniconda3/envs/pgnd-ai/lib/python3.12/site-packages (4.12.3)\n",
      "Requirement already satisfied: requests in /Users/harsha/miniconda3/envs/pgnd-ai/lib/python3.12/site-packages (2.31.0)\n",
      "Requirement already satisfied: selenium in /Users/harsha/miniconda3/envs/pgnd-ai/lib/python3.12/site-packages (4.20.0)\n",
      "Collecting webdriver-manager\n",
      "  Downloading webdriver_manager-4.0.1-py2.py3-none-any.whl.metadata (12 kB)\n",
      "Requirement already satisfied: soupsieve>1.2 in /Users/harsha/miniconda3/envs/pgnd-ai/lib/python3.12/site-packages (from beautifulsoup4) (2.5)\n",
      "Requirement already satisfied: charset-normalizer<4,>=2 in /Users/harsha/miniconda3/envs/pgnd-ai/lib/python3.12/site-packages (from requests) (3.3.2)\n",
      "Requirement already satisfied: idna<4,>=2.5 in /Users/harsha/miniconda3/envs/pgnd-ai/lib/python3.12/site-packages (from requests) (3.7)\n",
      "Requirement already satisfied: urllib3<3,>=1.21.1 in /Users/harsha/miniconda3/envs/pgnd-ai/lib/python3.12/site-packages (from requests) (2.2.1)\n",
      "Requirement already satisfied: certifi>=2017.4.17 in /Users/harsha/miniconda3/envs/pgnd-ai/lib/python3.12/site-packages (from requests) (2024.2.2)\n",
      "Requirement already satisfied: trio~=0.17 in /Users/harsha/miniconda3/envs/pgnd-ai/lib/python3.12/site-packages (from selenium) (0.25.0)\n",
      "Requirement already satisfied: trio-websocket~=0.9 in /Users/harsha/miniconda3/envs/pgnd-ai/lib/python3.12/site-packages (from selenium) (0.11.1)\n",
      "Requirement already satisfied: typing_extensions>=4.9.0 in /Users/harsha/miniconda3/envs/pgnd-ai/lib/python3.12/site-packages (from selenium) (4.11.0)\n",
      "Collecting python-dotenv (from webdriver-manager)\n",
      "  Using cached python_dotenv-1.0.1-py3-none-any.whl.metadata (23 kB)\n",
      "Requirement already satisfied: packaging in /Users/harsha/miniconda3/envs/pgnd-ai/lib/python3.12/site-packages (from webdriver-manager) (24.0)\n",
      "Requirement already satisfied: attrs>=23.2.0 in /Users/harsha/miniconda3/envs/pgnd-ai/lib/python3.12/site-packages (from trio~=0.17->selenium) (23.2.0)\n",
      "Requirement already satisfied: sortedcontainers in /Users/harsha/miniconda3/envs/pgnd-ai/lib/python3.12/site-packages (from trio~=0.17->selenium) (2.4.0)\n",
      "Requirement already satisfied: outcome in /Users/harsha/miniconda3/envs/pgnd-ai/lib/python3.12/site-packages (from trio~=0.17->selenium) (1.3.0.post0)\n",
      "Requirement already satisfied: sniffio>=1.3.0 in /Users/harsha/miniconda3/envs/pgnd-ai/lib/python3.12/site-packages (from trio~=0.17->selenium) (1.3.1)\n",
      "Requirement already satisfied: wsproto>=0.14 in /Users/harsha/miniconda3/envs/pgnd-ai/lib/python3.12/site-packages (from trio-websocket~=0.9->selenium) (1.2.0)\n",
      "Requirement already satisfied: pysocks!=1.5.7,<2.0,>=1.5.6 in /Users/harsha/miniconda3/envs/pgnd-ai/lib/python3.12/site-packages (from urllib3[socks]<3,>=1.26->selenium) (1.7.1)\n",
      "Requirement already satisfied: h11<1,>=0.9.0 in /Users/harsha/miniconda3/envs/pgnd-ai/lib/python3.12/site-packages (from wsproto>=0.14->trio-websocket~=0.9->selenium) (0.14.0)\n",
      "Downloading webdriver_manager-4.0.1-py2.py3-none-any.whl (27 kB)\n",
      "Using cached python_dotenv-1.0.1-py3-none-any.whl (19 kB)\n",
      "Installing collected packages: python-dotenv, webdriver-manager\n",
      "Successfully installed python-dotenv-1.0.1 webdriver-manager-4.0.1\n"
     ]
    }
   ],
   "source": [
    "! pip install beautifulsoup4 requests selenium webdriver-manager"
   ]
  },
  {
   "cell_type": "code",
   "execution_count": 9,
   "metadata": {},
   "outputs": [
    {
     "name": "stdout",
     "output_type": "stream",
     "text": [
      "Spring Fertility\n",
      "Laurel Fertility Care, A Professional Medical Corporation\n",
      "Kaiser Permanente Center for Reproductive Health San Francisco\n",
      "Kindbody - San Francisco\n",
      "Spring Fertility\n",
      "Reproductive Medicine Associates of Northern California (RMA)\n",
      "UCSF Center for Reproductive Health\n",
      "Marin Fertility Center\n",
      "Pacific Fertility Center\n",
      "Spring Fertility Management LLC-East Bay\n",
      "Reproductive Science Center of the San Francisco  Bay Area\n",
      "Marin Fertility Center\n",
      "Zouves Fertility Center\n",
      "Reproductive Science Center of the San Francisco  Bay Area\n",
      "Spring Fertility\n",
      "Spring Fertility\n",
      "Reproductive Science Center of the San Francisco Bay Area\n",
      "CCRM San Francisco\n",
      "Kaiser San Ramon Bishop Ranch Medical Offices\n",
      "Reproductive Medicine Associates of California (RMA) Danville\n"
     ]
    }
   ],
   "source": [
    "# browse the URL and click \"Success Rate\" button\n",
    "# https://www.sartcorsonline.com/members/ClinicSearch?Lat=37.7749295&Lon=-122.4194155&Addr=San%20Francisco,%20CA,%20USA&SearchTerm=\n",
    "\n",
    "from selenium import webdriver\n",
    "from selenium.webdriver.common.by import By\n",
    "from selenium.webdriver.chrome.service import Service\n",
    "from selenium.webdriver.support.ui import WebDriverWait\n",
    "from selenium.webdriver.support import expected_conditions as EC\n",
    "from webdriver_manager.chrome import ChromeDriverManager\n",
    "from bs4 import BeautifulSoup\n",
    "import time\n",
    "\n",
    "# Set up the WebDriver (e.g., Chrome)\n",
    "driver = webdriver.Chrome(service=Service(ChromeDriverManager().install()))\n",
    "\n",
    "# Step 1: Navigate to the website\n",
    "url = \"https://www.sartcorsonline.com/members/ClinicSearch?Lat=37.7749295&Lon=-122.4194155&Addr=San%20Francisco,%20CA,%20USA&SearchTerm=\"\n",
    "driver.get(url)\n",
    "\n",
    "# Step 2: Wait for the button to be clickable and click it\n",
    "try:\n",
    "    # Wait until the button is clickable\n",
    "    button = WebDriverWait(driver, 10).until(\n",
    "        EC.element_to_be_clickable((By.XPATH, \"//button[contains(@class, 'MuiButton-containedPrimary')]\"))\n",
    "    )\n",
    "    button.click()\n",
    "    \n",
    "    # Wait for the content to load after clicking the button\n",
    "    time.sleep(5)  # Adjust the sleep time based on the page load time\n",
    "except Exception as e:\n",
    "    print(f\"An error occurred while clicking the button: {e}\")\n",
    "\n",
    "# Step 3: Get the HTML content after interacting with the page\n",
    "html_content = driver.page_source\n",
    "\n",
    "# Step 4: Parse the HTML content using BeautifulSoup\n",
    "soup = BeautifulSoup(html_content, 'html.parser')\n",
    "\n",
    "# Step 5: Find and print all elements with the class \"cardTitle\"\n",
    "card_titles = soup.find_all(class_='cardTitle')\n",
    "for card_title in card_titles:\n",
    "    print(card_title.get_text())\n",
    "\n",
    "# Close the WebDriver\n",
    "driver.quit()\n"
   ]
  },
  {
   "cell_type": "code",
   "execution_count": null,
   "metadata": {},
   "outputs": [],
   "source": []
  }
 ],
 "metadata": {
  "kernelspec": {
   "display_name": "pgnd-ai",
   "language": "python",
   "name": "python3"
  },
  "language_info": {
   "codemirror_mode": {
    "name": "ipython",
    "version": 3
   },
   "file_extension": ".py",
   "mimetype": "text/x-python",
   "name": "python",
   "nbconvert_exporter": "python",
   "pygments_lexer": "ipython3",
   "version": "3.12.3"
  }
 },
 "nbformat": 4,
 "nbformat_minor": 2
}
