{
 "cells": [
  {
   "cell_type": "code",
   "execution_count": 12,
   "metadata": {},
   "outputs": [
    {
     "name": "stdout",
     "output_type": "stream",
     "text": [
      "Requirement already satisfied: pillow in ./.venv/lib/python3.10/site-packages (10.4.0)\n",
      "Requirement already satisfied: langchain-core in ./.venv/lib/python3.10/site-packages (0.2.37)\n",
      "Collecting langchain-ollama\n",
      "  Downloading langchain_ollama-0.1.3-py3-none-any.whl (14 kB)\n",
      "Requirement already satisfied: jsonpatch<2.0,>=1.33 in ./.venv/lib/python3.10/site-packages (from langchain-core) (1.33)\n",
      "Requirement already satisfied: pydantic<3,>=1 in ./.venv/lib/python3.10/site-packages (from langchain-core) (2.8.2)\n",
      "Requirement already satisfied: PyYAML>=5.3 in ./.venv/lib/python3.10/site-packages (from langchain-core) (6.0.2)\n",
      "Requirement already satisfied: packaging<25,>=23.2 in ./.venv/lib/python3.10/site-packages (from langchain-core) (24.1)\n",
      "Requirement already satisfied: langsmith<0.2.0,>=0.1.75 in ./.venv/lib/python3.10/site-packages (from langchain-core) (0.1.107)\n",
      "Requirement already satisfied: tenacity!=8.4.0,<9.0.0,>=8.1.0 in ./.venv/lib/python3.10/site-packages (from langchain-core) (8.5.0)\n",
      "Requirement already satisfied: typing-extensions>=4.7 in ./.venv/lib/python3.10/site-packages (from langchain-core) (4.12.2)\n",
      "Collecting ollama<1,>=0.3.0\n",
      "  Downloading ollama-0.3.2-py3-none-any.whl (10 kB)\n",
      "Requirement already satisfied: jsonpointer>=1.9 in ./.venv/lib/python3.10/site-packages (from jsonpatch<2.0,>=1.33->langchain-core) (3.0.0)\n",
      "Requirement already satisfied: orjson<4.0.0,>=3.9.14 in ./.venv/lib/python3.10/site-packages (from langsmith<0.2.0,>=0.1.75->langchain-core) (3.10.7)\n",
      "Requirement already satisfied: httpx<1,>=0.23.0 in ./.venv/lib/python3.10/site-packages (from langsmith<0.2.0,>=0.1.75->langchain-core) (0.27.2)\n",
      "Requirement already satisfied: requests<3,>=2 in ./.venv/lib/python3.10/site-packages (from langsmith<0.2.0,>=0.1.75->langchain-core) (2.32.3)\n",
      "Requirement already satisfied: pydantic-core==2.20.1 in ./.venv/lib/python3.10/site-packages (from pydantic<3,>=1->langchain-core) (2.20.1)\n",
      "Requirement already satisfied: annotated-types>=0.4.0 in ./.venv/lib/python3.10/site-packages (from pydantic<3,>=1->langchain-core) (0.7.0)\n",
      "Requirement already satisfied: idna in ./.venv/lib/python3.10/site-packages (from httpx<1,>=0.23.0->langsmith<0.2.0,>=0.1.75->langchain-core) (3.8)\n",
      "Requirement already satisfied: anyio in ./.venv/lib/python3.10/site-packages (from httpx<1,>=0.23.0->langsmith<0.2.0,>=0.1.75->langchain-core) (4.4.0)\n",
      "Requirement already satisfied: certifi in ./.venv/lib/python3.10/site-packages (from httpx<1,>=0.23.0->langsmith<0.2.0,>=0.1.75->langchain-core) (2024.8.30)\n",
      "Requirement already satisfied: sniffio in ./.venv/lib/python3.10/site-packages (from httpx<1,>=0.23.0->langsmith<0.2.0,>=0.1.75->langchain-core) (1.3.1)\n",
      "Requirement already satisfied: httpcore==1.* in ./.venv/lib/python3.10/site-packages (from httpx<1,>=0.23.0->langsmith<0.2.0,>=0.1.75->langchain-core) (1.0.5)\n",
      "Requirement already satisfied: h11<0.15,>=0.13 in ./.venv/lib/python3.10/site-packages (from httpcore==1.*->httpx<1,>=0.23.0->langsmith<0.2.0,>=0.1.75->langchain-core) (0.14.0)\n",
      "Requirement already satisfied: urllib3<3,>=1.21.1 in ./.venv/lib/python3.10/site-packages (from requests<3,>=2->langsmith<0.2.0,>=0.1.75->langchain-core) (2.2.2)\n",
      "Requirement already satisfied: charset-normalizer<4,>=2 in ./.venv/lib/python3.10/site-packages (from requests<3,>=2->langsmith<0.2.0,>=0.1.75->langchain-core) (3.3.2)\n",
      "Requirement already satisfied: exceptiongroup>=1.0.2 in ./.venv/lib/python3.10/site-packages (from anyio->httpx<1,>=0.23.0->langsmith<0.2.0,>=0.1.75->langchain-core) (1.2.2)\n",
      "Installing collected packages: ollama, langchain-ollama\n",
      "Successfully installed langchain-ollama-0.1.3 ollama-0.3.2\n",
      "\n",
      "\u001b[1m[\u001b[0m\u001b[34;49mnotice\u001b[0m\u001b[1;39;49m]\u001b[0m\u001b[39;49m A new release of pip is available: \u001b[0m\u001b[31;49m23.0.1\u001b[0m\u001b[39;49m -> \u001b[0m\u001b[32;49m24.2\u001b[0m\n",
      "\u001b[1m[\u001b[0m\u001b[34;49mnotice\u001b[0m\u001b[1;39;49m]\u001b[0m\u001b[39;49m To update, run: \u001b[0m\u001b[32;49mpip install --upgrade pip\u001b[0m\n"
     ]
    }
   ],
   "source": [
    "! pip install pillow langchain-core langchain-ollama"
   ]
  },
  {
   "cell_type": "code",
   "execution_count": 17,
   "metadata": {},
   "outputs": [
    {
     "data": {
      "text/html": [
       "<img src=\"data:image/png;base64,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\" />"
      ],
      "text/plain": [
       "<IPython.core.display.HTML object>"
      ]
     },
     "metadata": {},
     "output_type": "display_data"
    }
   ],
   "source": [
    "import base64\n",
    "from io import BytesIO\n",
    "\n",
    "from IPython.display import HTML, display\n",
    "from PIL import Image\n",
    "\n",
    "\n",
    "def convert_to_base64(pil_image):\n",
    "    \"\"\"\n",
    "    Convert PIL images to Base64 encoded strings\n",
    "\n",
    "    :param pil_image: PIL image\n",
    "    :return: Re-sized Base64 string\n",
    "    \"\"\"\n",
    "\n",
    "    buffered = BytesIO()\n",
    "    pil_image.save(buffered, format=\"png\")  # You can change the format if needed\n",
    "    img_str = base64.b64encode(buffered.getvalue()).decode(\"utf-8\")\n",
    "    return img_str\n",
    "\n",
    "\n",
    "def plt_img_base64(img_base64):\n",
    "    \"\"\"\n",
    "    Disply base64 encoded string as image\n",
    "\n",
    "    :param img_base64:  Base64 string\n",
    "    \"\"\"\n",
    "    # Create an HTML img tag with the base64 string as the source\n",
    "    image_html = f'<img src=\"data:image/png;base64,{img_base64}\" />'\n",
    "    # Display the image by rendering the HTML\n",
    "    display(HTML(image_html))\n",
    "\n",
    "\n",
    "file_path = \"data/triangle.png\"\n",
    "pil_image = Image.open(file_path)\n",
    "\n",
    "image_b64 = convert_to_base64(pil_image)\n",
    "plt_img_base64(image_b64)"
   ]
  },
  {
   "cell_type": "code",
   "execution_count": 19,
   "metadata": {},
   "outputs": [
    {
     "name": "stdout",
     "output_type": "stream",
     "text": [
      " To find the area of a triangle, you need to know its base and height. In this image, it appears that the triangle has a base of 6 units and a height of 5 units.\n",
      "\n",
      "The formula for the area of a triangle is:\n",
      "\n",
      "`Area = (Base * Height) / 2`\n",
      "\n",
      "So, if we plug in the values from the image:\n",
      "\n",
      "`Area = (6 * 5) / 2`\n",
      "\n",
      "`Area = 30`\n",
      "\n",
      "Therefore, the area of the triangle is 30 square units. \n"
     ]
    }
   ],
   "source": [
    "from langchain_core.messages import HumanMessage\n",
    "from langchain_ollama import ChatOllama\n",
    "\n",
    "llm = ChatOllama(model=\"llava\", temperature=0)\n",
    "\n",
    "\n",
    "def prompt_func(data):\n",
    "    text = data[\"text\"]\n",
    "    image = data[\"image\"]\n",
    "\n",
    "    image_part = {\n",
    "        \"type\": \"image_url\",\n",
    "        \"image_url\": f\"data:image/png;base64,{image}\",\n",
    "    }\n",
    "\n",
    "    content_parts = []\n",
    "\n",
    "    text_part = {\"type\": \"text\", \"text\": text}\n",
    "\n",
    "    content_parts.append(image_part)\n",
    "    content_parts.append(text_part)\n",
    "\n",
    "    return [HumanMessage(content=content_parts)]\n",
    "\n",
    "\n",
    "from langchain_core.output_parsers import StrOutputParser\n",
    "\n",
    "chain = prompt_func | llm | StrOutputParser()\n",
    "\n",
    "query_chain = chain.invoke(\n",
    "    {\"text\": \"You are a helpful assistant that responds in Markdown. Help me with my math homework! What's the area of the triangle?\", \"image\": image_b64}\n",
    ")\n",
    "\n",
    "print(query_chain)"
   ]
  }
 ],
 "metadata": {
  "kernelspec": {
   "display_name": ".venv",
   "language": "python",
   "name": "python3"
  },
  "language_info": {
   "codemirror_mode": {
    "name": "ipython",
    "version": 3
   },
   "file_extension": ".py",
   "mimetype": "text/x-python",
   "name": "python",
   "nbconvert_exporter": "python",
   "pygments_lexer": "ipython3",
   "version": "3.10.11"
  }
 },
 "nbformat": 4,
 "nbformat_minor": 2
}
